{
 "cells": [
  {
   "cell_type": "code",
   "execution_count": null,
   "metadata": {
    "colab": {},
    "colab_type": "code",
    "id": "aDqb630XDKyl"
   },
   "outputs": [],
   "source": [
    "import pandas as pd\n",
    "import numpy as np\n",
    "import matplotlib.pyplot as plt\n",
    "from sklearn.neighbors import NearestNeighbors\n",
    "from sklearn.metrics import confusion_matrix"
   ]
  },
  {
   "cell_type": "code",
   "execution_count": null,
   "metadata": {
    "colab": {},
    "colab_type": "code",
    "id": "4VHcgFGzDQtG"
   },
   "outputs": [],
   "source": [
    "train = pd.read_csv('fashion_train.csv', header = None)\n",
    "test = pd.read_csv('fashion_test.csv', header = None)"
   ]
  },
  {
   "cell_type": "code",
   "execution_count": null,
   "metadata": {
    "colab": {
     "base_uri": "https://localhost:8080/",
     "height": 252
    },
    "colab_type": "code",
    "id": "haib1ychDekv",
    "outputId": "2988a5b1-28ee-4408-fbaf-460e9f567b5e"
   },
   "outputs": [
    {
     "name": "stdout",
     "output_type": "stream",
     "text": [
      "       1    2    3    4    5    6    7    ...  778  779  780  781  782  783  784\n",
      "0        0    0    0    0    0    0    0  ...    0    0    0    0    0    0    0\n",
      "1        0    0    0    0    0    1    0  ...   76    0    0    0    0    0    0\n",
      "2        0    0    0    0    0    0    0  ...    0    0    0    0    0    0    0\n",
      "3        0    0    0    0    0    0    0  ...    0    0    0    0    0    0    0\n",
      "4        0    0    0    0    0    0    0  ...    0    0    0    0    0    0    0\n",
      "...    ...  ...  ...  ...  ...  ...  ...  ...  ...  ...  ...  ...  ...  ...  ...\n",
      "59995    0    0    0    0    0    0    0  ...    0    0    0    0    0    0    0\n",
      "59996    0    0    0    0    0    0    0  ...    0    0    0    0    0    0    0\n",
      "59997    0    0    0    0    0    0    0  ...    0    0    0    0    0    0    0\n",
      "59998    0    0    0    0    0    0    0  ...    5    0    1    0    0    0    0\n",
      "59999    0    0    0    0    0    0    0  ...    0    0    0    0    0    0    0\n",
      "\n",
      "[60000 rows x 784 columns]\n"
     ]
    }
   ],
   "source": [
    "train=train.dropna(0)\n",
    "test=test.dropna(0)\n",
    "pixels = train.iloc[:,1:785]\n",
    "print(pixels)"
   ]
  },
  {
   "cell_type": "markdown",
   "metadata": {
    "colab_type": "text",
    "id": "L92ydLetwXrz"
   },
   "source": [
    "K = 1"
   ]
  },
  {
   "cell_type": "code",
   "execution_count": null,
   "metadata": {
    "colab": {},
    "colab_type": "code",
    "id": "pARpsicjwBUL"
   },
   "outputs": [],
   "source": [
    "from sklearn import neighbors\n",
    "clf=neighbors.KNeighborsClassifier(n_neighbors=1,algorithm='kd_tree')\n",
    "clf.fit(pixels,train[0])\n",
    "\n",
    "predict=clf.predict(test.iloc[:,1:785])\n"
   ]
  },
  {
   "cell_type": "code",
   "execution_count": null,
   "metadata": {
    "colab": {
     "base_uri": "https://localhost:8080/",
     "height": 185
    },
    "colab_type": "code",
    "id": "FhFUJJBKwB9d",
    "outputId": "7841ac2c-c92b-4ac6-91b1-8d5c3f448aa5"
   },
   "outputs": [
    {
     "name": "stdout",
     "output_type": "stream",
     "text": [
      "[[800   7  15  35   5   0 160   0   5   0]\n",
      " [  2 975   2   9   2   0   1   0   1   0]\n",
      " [ 20   2 782  14 127   0 117   0   9   0]\n",
      " [ 26   8  10 850  34   0  27   0   3   0]\n",
      " [  5   4  97  42 734   0  69   0   2   0]\n",
      " [  0   0   0   0   0 863   0   5   0   2]\n",
      " [142   3  94  48  97   2 619   0  17   0]\n",
      " [  1   0   0   0   0  68   0 949   4  30]\n",
      " [  4   1   0   2   1   1   7   0 958   1]\n",
      " [  0   0   0   0   0  66   0  46   1 967]]\n"
     ]
    }
   ],
   "source": [
    "cm=confusion_matrix(predict,test[0])\n",
    "print(cm)"
   ]
  },
  {
   "cell_type": "markdown",
   "metadata": {
    "colab_type": "text",
    "id": "Wi7Ov7-3weF0"
   },
   "source": [
    "K = 11"
   ]
  },
  {
   "cell_type": "code",
   "execution_count": null,
   "metadata": {
    "colab": {
     "base_uri": "https://localhost:8080/",
     "height": 34
    },
    "colab_type": "code",
    "id": "BorSvAWAwCgp",
    "outputId": "240bf820-3c75-4d6e-d016-2d32affb650e"
   },
   "outputs": [
    {
     "name": "stdout",
     "output_type": "stream",
     "text": [
      "0.8497\n"
     ]
    }
   ],
   "source": [
    "from sklearn.metrics import accuracy_score\n",
    "print(accuracy_score(predict,test[0]))"
   ]
  },
  {
   "cell_type": "code",
   "execution_count": null,
   "metadata": {
    "colab": {},
    "colab_type": "code",
    "id": "Fo-iLw2zwClO"
   },
   "outputs": [],
   "source": [
    "clf=neighbors.KNeighborsClassifier(n_neighbors=11,algorithm='kd_tree')\n",
    "clf.fit(pixels,train[0])\n",
    "\n",
    "predict=clf.predict(test.iloc[:,1:785])"
   ]
  },
  {
   "cell_type": "code",
   "execution_count": null,
   "metadata": {
    "colab": {
     "base_uri": "https://localhost:8080/",
     "height": 185
    },
    "colab_type": "code",
    "id": "n7e7MNs9wEFj",
    "outputId": "16e072dc-2def-40e7-9758-fee5df9669ff"
   },
   "outputs": [
    {
     "name": "stdout",
     "output_type": "stream",
     "text": [
      "[[860  10  22  35   1   1 178   0   1   0]\n",
      " [  0 962   2   4   0   0   0   0   1   0]\n",
      " [ 18   6 807  14 117   0 135   0  15   0]\n",
      " [ 18  14   6 864  27   1  22   0   2   0]\n",
      " [  5   4  88  41 758   0  75   0  10   0]\n",
      " [  0   0   0   0   0 793   0   2   0   0]\n",
      " [ 90   4  74  41  96   5 576   0  15   1]\n",
      " [  1   0   0   0   0 111   0 960   6  32]\n",
      " [  8   0   1   1   1   2  14   0 948   0]\n",
      " [  0   0   0   0   0  87   0  38   2 967]]\n"
     ]
    }
   ],
   "source": [
    "cm=confusion_matrix(predict,test[0])\n",
    "print(cm)"
   ]
  },
  {
   "cell_type": "code",
   "execution_count": null,
   "metadata": {
    "colab": {
     "base_uri": "https://localhost:8080/",
     "height": 34
    },
    "colab_type": "code",
    "id": "7gJSzgPuwEKr",
    "outputId": "10733576-4ff1-4204-fab8-7aed9e8949a2"
   },
   "outputs": [
    {
     "name": "stdout",
     "output_type": "stream",
     "text": [
      "0.8495\n"
     ]
    }
   ],
   "source": [
    "print(accuracy_score(predict,test[0]))"
   ]
  },
  {
   "cell_type": "markdown",
   "metadata": {
    "colab_type": "text",
    "id": "1Cb6Py5swnU6"
   },
   "source": [
    "K = 21"
   ]
  },
  {
   "cell_type": "code",
   "execution_count": null,
   "metadata": {
    "colab": {
     "base_uri": "https://localhost:8080/",
     "height": 67
    },
    "colab_type": "code",
    "id": "SxLiOanrFn70",
    "outputId": "1221e9cf-11a1-41ee-8f99-f6966f216a39"
   },
   "outputs": [
    {
     "data": {
      "text/plain": [
       "KNeighborsClassifier(algorithm='kd_tree', leaf_size=30, metric='minkowski',\n",
       "                     metric_params=None, n_jobs=None, n_neighbors=21, p=2,\n",
       "                     weights='uniform')"
      ]
     },
     "execution_count": 16,
     "metadata": {
      "tags": []
     },
     "output_type": "execute_result"
    }
   ],
   "source": [
    "from sklearn import neighbors\n",
    "clf=neighbors.KNeighborsClassifier(n_neighbors=21,algorithm='kd_tree')\n",
    "clf.fit(pixels,train[0])"
   ]
  },
  {
   "cell_type": "code",
   "execution_count": null,
   "metadata": {
    "colab": {},
    "colab_type": "code",
    "id": "Nb8F0cGZDl00"
   },
   "outputs": [],
   "source": [
    "predict=clf.predict(test.iloc[:,1:785])\n"
   ]
  },
  {
   "cell_type": "code",
   "execution_count": null,
   "metadata": {
    "colab": {
     "base_uri": "https://localhost:8080/",
     "height": 185
    },
    "colab_type": "code",
    "id": "CKqd5eI9Y1UP",
    "outputId": "1ddc1326-1655-464d-dc9d-5fa96c9d7a26"
   },
   "outputs": [
    {
     "name": "stdout",
     "output_type": "stream",
     "text": [
      "[[860   9  20  31   0   1 188   0   1   0]\n",
      " [  0 952   1   5   0   0   1   0   1   0]\n",
      " [ 18   9 795  15 107   0 141   0  21   0]\n",
      " [ 19  19   6 864  27   2  21   0   3   0]\n",
      " [  8   4  82  41 752   0  75   0   8   0]\n",
      " [  0   0   0   0   0 772   0   1   0   0]\n",
      " [ 83   7  93  41 110   7 559   0  16   2]\n",
      " [  1   0   0   0   0 129   0 951   8  36]\n",
      " [ 11   0   3   3   4   2  15   0 940   0]\n",
      " [  0   0   0   0   0  87   0  48   2 962]]\n"
     ]
    }
   ],
   "source": [
    "cm=confusion_matrix(predict,test[0])\n",
    "print(cm)"
   ]
  },
  {
   "cell_type": "code",
   "execution_count": null,
   "metadata": {
    "colab": {
     "base_uri": "https://localhost:8080/",
     "height": 34
    },
    "colab_type": "code",
    "id": "MQrHlD2svNCf",
    "outputId": "5e47f263-e45c-4311-a7e3-1ff1d3c75734"
   },
   "outputs": [
    {
     "name": "stdout",
     "output_type": "stream",
     "text": [
      "0.8407\n"
     ]
    }
   ],
   "source": [
    "from sklearn.metrics import accuracy_score\n",
    "print(accuracy_score(predict,test[0]))"
   ]
  }
 ],
 "metadata": {
  "colab": {
   "collapsed_sections": [],
   "name": "Untitled0.ipynb",
   "provenance": []
  },
  "kernelspec": {
   "display_name": "Python 3",
   "language": "python",
   "name": "python3"
  }
 },
 "nbformat": 4,
 "nbformat_minor": 1
}
